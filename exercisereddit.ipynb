{
 "cells": [
  {
   "cell_type": "code",
   "execution_count": 1,
   "metadata": {},
   "outputs": [],
   "source": [
    "import praw\n",
    "import pandas as pd"
   ]
  },
  {
   "cell_type": "code",
   "execution_count": 3,
   "metadata": {},
   "outputs": [],
   "source": [
    "CLIENT_ID = \"x\"\n",
    "CLIENT_SECRET = \"x\"\n",
    "USER_AGENT = f\"python:{CLIENT_ID}:0.1 (by /u/Kolien_)\""
   ]
  },
  {
   "cell_type": "code",
   "execution_count": 4,
   "metadata": {},
   "outputs": [],
   "source": [
    "# Okay! Now we can create an instance of the api by using this command\n",
    "api = praw.Reddit(\n",
    "    client_id = CLIENT_ID,\n",
    "    client_secret = CLIENT_SECRET,\n",
    "    user_agent = USER_AGENT\n",
    ")"
   ]
  },
  {
   "cell_type": "code",
   "execution_count": 5,
   "metadata": {},
   "outputs": [
    {
     "data": {
      "text/plain": [
       "True"
      ]
     },
     "execution_count": 5,
     "metadata": {},
     "output_type": "execute_result"
    }
   ],
   "source": [
    "api.read_only"
   ]
  },
  {
   "cell_type": "code",
   "execution_count": 22,
   "metadata": {},
   "outputs": [
    {
     "data": {
      "text/plain": [
       "<praw.models.listing.generator.ListingGenerator at 0x10fde3550>"
      ]
     },
     "execution_count": 22,
     "metadata": {},
     "output_type": "execute_result"
    }
   ],
   "source": [
    "submissions = api.subreddit('askReddit').hot(limit = 10)\n",
    "submissions"
   ]
  },
  {
   "cell_type": "code",
   "execution_count": 36,
   "metadata": {},
   "outputs": [],
   "source": [
    "submissions = api.subreddit('askReddit').hot(limit = 10)\n",
    "newlist = []\n",
    "for submission in submissions:\n",
    "    newlist.append({\n",
    "        \"title\" : submission.title,\n",
    "        \"score\" : submission.score,\n",
    "        \"comments\" : submission.num_comments\n",
    "    })"
   ]
  },
  {
   "cell_type": "code",
   "execution_count": 37,
   "metadata": {},
   "outputs": [
    {
     "name": "stdout",
     "output_type": "stream",
     "text": [
      "[{'title': 'What was the cringiest thing you did in your first relationship?', 'score': 25260, 'comments': 10213}, {'title': 'What’s the dumbest thing you’ve heard someone say that made you wonder how they function on a day to day basis?', 'score': 50720, 'comments': 28783}, {'title': 'What is something that HAS aged well?', 'score': 5140, 'comments': 6161}, {'title': 'What have we all conveniently forgotten about?', 'score': 5058, 'comments': 4823}, {'title': 'What made you laugh the hardest in your entire life?', 'score': 7745, 'comments': 3777}, {'title': 'What is the worst thing to cheap out on?', 'score': 477, 'comments': 713}, {'title': \"What's an experience you don't ever want to go through again?\", 'score': 4880, 'comments': 4783}, {'title': \"Men of reddit, what do women do that they think is sexy, but actually isn't?\", 'score': 546, 'comments': 1314}, {'title': 'What benefits did you notice after losing weight?', 'score': 1549, 'comments': 1278}, {'title': \"What is the most physically painful thing you've ever gone through?\", 'score': 231, 'comments': 615}]\n"
     ]
    }
   ],
   "source": [
    "print(newlist)"
   ]
  },
  {
   "cell_type": "code",
   "execution_count": 40,
   "metadata": {},
   "outputs": [
    {
     "data": {
      "text/html": [
       "<div>\n",
       "<style scoped>\n",
       "    .dataframe tbody tr th:only-of-type {\n",
       "        vertical-align: middle;\n",
       "    }\n",
       "\n",
       "    .dataframe tbody tr th {\n",
       "        vertical-align: top;\n",
       "    }\n",
       "\n",
       "    .dataframe thead th {\n",
       "        text-align: right;\n",
       "    }\n",
       "</style>\n",
       "<table border=\"1\" class=\"dataframe\">\n",
       "  <thead>\n",
       "    <tr style=\"text-align: right;\">\n",
       "      <th></th>\n",
       "      <th>comments</th>\n",
       "      <th>score</th>\n",
       "      <th>title</th>\n",
       "    </tr>\n",
       "  </thead>\n",
       "  <tbody>\n",
       "    <tr>\n",
       "      <th>0</th>\n",
       "      <td>10213</td>\n",
       "      <td>25260</td>\n",
       "      <td>What was the cringiest thing you did in your f...</td>\n",
       "    </tr>\n",
       "    <tr>\n",
       "      <th>1</th>\n",
       "      <td>28783</td>\n",
       "      <td>50720</td>\n",
       "      <td>What’s the dumbest thing you’ve heard someone ...</td>\n",
       "    </tr>\n",
       "    <tr>\n",
       "      <th>2</th>\n",
       "      <td>6161</td>\n",
       "      <td>5140</td>\n",
       "      <td>What is something that HAS aged well?</td>\n",
       "    </tr>\n",
       "    <tr>\n",
       "      <th>3</th>\n",
       "      <td>4823</td>\n",
       "      <td>5058</td>\n",
       "      <td>What have we all conveniently forgotten about?</td>\n",
       "    </tr>\n",
       "    <tr>\n",
       "      <th>4</th>\n",
       "      <td>3777</td>\n",
       "      <td>7745</td>\n",
       "      <td>What made you laugh the hardest in your entire...</td>\n",
       "    </tr>\n",
       "  </tbody>\n",
       "</table>\n",
       "</div>"
      ],
      "text/plain": [
       "   comments  score                                              title\n",
       "0     10213  25260  What was the cringiest thing you did in your f...\n",
       "1     28783  50720  What’s the dumbest thing you’ve heard someone ...\n",
       "2      6161   5140              What is something that HAS aged well?\n",
       "3      4823   5058     What have we all conveniently forgotten about?\n",
       "4      3777   7745  What made you laugh the hardest in your entire..."
      ]
     },
     "execution_count": 40,
     "metadata": {},
     "output_type": "execute_result"
    }
   ],
   "source": [
    "df = pd.DataFrame(newlist)\n",
    "df.head()"
   ]
  },
  {
   "cell_type": "code",
   "execution_count": 41,
   "metadata": {},
   "outputs": [],
   "source": [
    "df.to_json(\"exercise_redditKolien.json\")"
   ]
  }
 ],
 "metadata": {
  "kernelspec": {
   "display_name": "Python 3",
   "language": "python",
   "name": "python3"
  },
  "language_info": {
   "codemirror_mode": {
    "name": "ipython",
    "version": 3
   },
   "file_extension": ".py",
   "mimetype": "text/x-python",
   "name": "python",
   "nbconvert_exporter": "python",
   "pygments_lexer": "ipython3",
   "version": "3.6.5"
  }
 },
 "nbformat": 4,
 "nbformat_minor": 2
}
