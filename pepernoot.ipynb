{
 "cells": [
  {
   "cell_type": "code",
   "execution_count": 67,
   "metadata": {},
   "outputs": [],
   "source": [
    "calories = 7.3\n",
    "fat = 0.19\n",
    "sugar = 0.53\n",
    "carbs = 1.27"
   ]
  },
  {
   "cell_type": "code",
   "execution_count": 68,
   "metadata": {},
   "outputs": [],
   "source": [
    "amount = input(\"How many kruidnoten did you eat? \")"
   ]
  },
  {
   "cell_type": "code",
   "execution_count": 69,
   "metadata": {},
   "outputs": [
    {
     "name": "stdout",
     "output_type": "stream",
     "text": [
      "You had 5 kruidnoten\n"
     ]
    }
   ],
   "source": [
    "print(\"You had \" + amount + \" kruidnoten\")"
   ]
  },
  {
   "cell_type": "code",
   "execution_count": 70,
   "metadata": {},
   "outputs": [],
   "source": [
    "amount = float(amount)"
   ]
  },
  {
   "cell_type": "code",
   "execution_count": 71,
   "metadata": {},
   "outputs": [],
   "source": [
    "user_calories = amount * calories\n",
    "user_fat = amount * fat\n",
    "user_sugar = amount * sugar\n",
    "user_carbs = amount * carbs"
   ]
  },
  {
   "cell_type": "code",
   "execution_count": 72,
   "metadata": {},
   "outputs": [
    {
     "name": "stdout",
     "output_type": "stream",
     "text": [
      "For 5.0 kruidnoten:\n",
      "Calories: 36.5 kcal\n",
      "Fat: 0.95 grams\n",
      "Sugar: 2.6500000000000004 grams\n",
      "Carbs: 6.35 grams\n"
     ]
    }
   ],
   "source": [
    "print (\"For \" + str(amount) + \" kruidnoten:\")\n",
    "print(\"Calories: \" + str(user_calories) + \" kcal\")\n",
    "print(\"Fat: \" + str(user_fat) + \" grams\")\n",
    "print(\"Sugar: \" + str(user_sugar) + \" grams\")\n",
    "print(\"Carbs: \" + str(user_carbs) + \" grams\")"
   ]
  }
 ],
 "metadata": {
  "kernelspec": {
   "display_name": "Python 3",
   "language": "python",
   "name": "python3"
  },
  "language_info": {
   "codemirror_mode": {
    "name": "ipython",
    "version": 3
   },
   "file_extension": ".py",
   "mimetype": "text/x-python",
   "name": "python",
   "nbconvert_exporter": "python",
   "pygments_lexer": "ipython3",
   "version": "3.6.5"
  }
 },
 "nbformat": 4,
 "nbformat_minor": 2
}
